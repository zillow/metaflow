{
 "cells": [
  {
   "attachments": {
    "fe5574a5-9d5a-4c5f-aa6c-be5b49ea6271.png": {
     "image/png": "[encoded data removed]"
    }
   },
   "cell_type": "markdown",
   "metadata": {},
   "source": [
    "## Exercise: Print your name, and run the Flow\n",
    "![image.png](attachment:fe5574a5-9d5a-4c5f-aa6c-be5b49ea6271.png)\n",
    "\n",
    "**Anatomy of a workflow:**\n",
    "* 3 steps create a DAG\n",
    "* `self.next` to construct it.\n",
    "* print hello\n",
    "\n",
    "\n",
    "`%%writefile` creates the `hello_flow.py` file with the following contents."
   ]
  },
  {
   "cell_type": "code",
   "execution_count": null,
   "metadata": {
    "tags": []
   },
   "outputs": [],
   "source": [
    "%%writefile hello_flow.py\n",
    "\n",
    "from metaflow import FlowSpec, step\n",
    "\n",
    "\n",
    "class HelloFlow(FlowSpec):\n",
    "    @step\n",
    "    def start(self):\n",
    "        \"\"\"\n",
    "        This is the 'start' step. All flows must have a step named 'start' that\n",
    "        is the first step in the flow.\n",
    "        \"\"\"\n",
    "        self.next(self.hello)\n",
    "\n",
    "    @step\n",
    "    def hello(self):\n",
    "        print(\"Hello <TODO>.\")\n",
    "        self.next(self.end)\n",
    "\n",
    "    @step\n",
    "    def end(self):\n",
    "        \"\"\"\n",
    "        This is the 'end' step. All flows must have an 'end' step, which is the\n",
    "        last step in the flow.\n",
    "        \"\"\"\n",
    "        print(\"HelloFlow is all done.\")\n",
    "\n",
    "\n",
    "if __name__ == \"__main__\":\n",
    "    HelloFlow()"
   ]
  },
  {
   "cell_type": "markdown",
   "metadata": {},
   "source": [
    "## Run the Flow!"
   ]
  },
  {
   "cell_type": "code",
   "execution_count": null,
   "metadata": {
    "collapsed": false,
    "jupyter": {
     "outputs_hidden": false
    },
    "pycharm": {
     "name": "#%%\n"
    }
   },
   "outputs": [],
   "source": [
    "!python hello_flow.py run"
   ]
  },
  {
   "cell_type": "markdown",
   "metadata": {},
   "source": [
    "# Exercise: Flow update and inspect Flow state\n",
    "* Append `\".a\"` to `self.logbook`\n",
    "* Inspect state in ui\n",
    "  - Click on Flow and drill down"
   ]
  },
  {
   "cell_type": "code",
   "execution_count": null,
   "metadata": {
    "collapsed": false,
    "jupyter": {
     "outputs_hidden": false
    },
    "pycharm": {
     "name": "#%%\n"
    }
   },
   "outputs": [],
   "source": [
    "%%writefile linear_flow.py\n",
    "from metaflow import FlowSpec, step, current\n",
    "\n",
    "class LinearFlow(FlowSpec):\n",
    "\n",
    "    @step\n",
    "    def start(self):\n",
    "        self.logbook = current.step_name\n",
    "        self.next(self.a)\n",
    "\n",
    "    @step\n",
    "    def a(self):\n",
    "        # <TODO>\n",
    "        self.next(self.end)\n",
    "\n",
    "    @step\n",
    "    def end(self):\n",
    "        self.logbook += f\".{current.step_name}\"\n",
    "        is_success = self.logbook == 'start.a.end'\n",
    "        print(f\"Exercise is_success: {is_success}\")\n",
    "\n",
    "if __name__ == '__main__':\n",
    "    LinearFlow()"
   ]
  },
  {
   "cell_type": "code",
   "execution_count": null,
   "metadata": {
    "collapsed": false,
    "jupyter": {
     "outputs_hidden": false
    },
    "pycharm": {
     "name": "#%%\n"
    }
   },
   "outputs": [],
   "source": [
    "!python linear_flow.py run"
   ]
  },
  {
   "cell_type": "code",
   "execution_count": null,
   "metadata": {},
   "outputs": [],
   "source": []
  }
 ],
 "metadata": {
  "kernelspec": {
   "display_name": "Python 3",
   "language": "python",
   "name": "python3"
  },
  "language_info": {
   "codemirror_mode": {
    "name": "ipython",
    "version": 3
   },
   "file_extension": ".py",
   "mimetype": "text/x-python",
   "name": "python",
   "nbconvert_exporter": "python",
   "pygments_lexer": "ipython3",
   "version": "3.6.8"
  }
 },
 "nbformat": 4,
 "nbformat_minor": 4
}
